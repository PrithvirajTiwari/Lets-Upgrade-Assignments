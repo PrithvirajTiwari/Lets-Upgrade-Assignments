{
 "cells": [
  {
   "cell_type": "markdown",
   "metadata": {},
   "source": [
    "# Assignment 3\n",
    "Prithviraj Tiwari"
   ]
  },
  {
   "cell_type": "code",
   "execution_count": null,
   "metadata": {},
   "outputs": [],
   "source": [
    "import numpy as np"
   ]
  },
  {
   "cell_type": "markdown",
   "metadata": {},
   "source": [
    "# Question 1"
   ]
  },
  {
   "cell_type": "code",
   "execution_count": 2,
   "metadata": {},
   "outputs": [
    {
     "name": "stdout",
     "output_type": "stream",
     "text": [
      "[ 2  5  8 11 14 17 20 23 26 29 32 35 38 41 44 47 50]\n"
     ]
    }
   ],
   "source": [
    "\n",
    "arr = np.arange(2,51,3)\n",
    "print(arr)"
   ]
  },
  {
   "cell_type": "markdown",
   "metadata": {},
   "source": [
    "# Question 2"
   ]
  },
  {
   "cell_type": "code",
   "execution_count": 13,
   "metadata": {},
   "outputs": [
    {
     "name": "stdout",
     "output_type": "stream",
     "text": [
      "132\n",
      "645\n",
      "[132 645]\n",
      "[132 645]\n"
     ]
    }
   ],
   "source": [
    "arr1,arr2 = (list(map(int,input().split())) for i in range(2))\n",
    "\n",
    "arr1 = np.array(arr1)\n",
    "arr2 = np.array(arr2)\n",
    "\n",
    "print(np.concatenate((arr1,arr2)))\n",
    "\n",
    "print(np.sort(np.concatenate((arr1,arr2))))\n"
   ]
  },
  {
   "cell_type": "markdown",
   "metadata": {},
   "source": [
    "# Question 3"
   ]
  },
  {
   "cell_type": "code",
   "execution_count": 7,
   "metadata": {},
   "outputs": [
    {
     "name": "stdout",
     "output_type": "stream",
     "text": [
      "(3, 3) 9\n"
     ]
    }
   ],
   "source": [
    "\n",
    "\n",
    "arr = np.array([ [1,2,3] , [4,5,6] , [7,8,9] ])\n",
    "\n",
    "print(arr.shape,arr.size)\n"
   ]
  },
  {
   "cell_type": "markdown",
   "metadata": {},
   "source": [
    "# Question 4"
   ]
  },
  {
   "cell_type": "code",
   "execution_count": 8,
   "metadata": {},
   "outputs": [
    {
     "name": "stdout",
     "output_type": "stream",
     "text": [
      "[[1 2 3 4 5 6 7 8 9]] (1, 9)\n",
      "\n",
      "[[1 2 3]\n",
      " [4 5 6]\n",
      " [7 8 9]] (3, 3)\n"
     ]
    }
   ],
   "source": [
    "\n",
    "\n",
    "arr = np.array([ [1,2,3,4,5,6,7,8,9] ])\n",
    "\n",
    "print(arr,arr.shape) \n",
    "\n",
    "print()\n",
    "\n",
    "arr = arr.reshape(3,3) \n",
    "\n",
    "print(arr,arr.shape)"
   ]
  },
  {
   "cell_type": "markdown",
   "metadata": {},
   "source": [
    "# Question 5"
   ]
  },
  {
   "cell_type": "code",
   "execution_count": 9,
   "metadata": {},
   "outputs": [
    {
     "name": "stdout",
     "output_type": "stream",
     "text": [
      "[[1 1 1]\n",
      " [2 2 2]\n",
      " [3 3 3]\n",
      " [4 4 4]\n",
      " [5 5 5]\n",
      " [6 6 6]]\n",
      "\n",
      "[[1 1 1 4 4 4]\n",
      " [2 2 2 5 5 5]\n",
      " [3 3 3 6 6 6]]\n"
     ]
    }
   ],
   "source": [
    "\n",
    "\n",
    "arr1 = np.array([ [1,1,1] , [2,2,2] , [3,3,3] ])\n",
    "arr2 = np.array([ [4,4,4] , [5,5,5] , [6,6,6] ])\n",
    "\n",
    "print(np.vstack((arr1,arr2))) # Stack the arrays in a row-wise sequence\n",
    "print() \n",
    "print(np.hstack((arr1,arr2))) # Stack the arrays in a column-wise sequence"
   ]
  },
  {
   "cell_type": "markdown",
   "metadata": {},
   "source": [
    "# Question 6"
   ]
  },
  {
   "cell_type": "code",
   "execution_count": 12,
   "metadata": {},
   "outputs": [
    {
     "name": "stdout",
     "output_type": "stream",
     "text": [
      "[1 2 3 4 5 6]\n"
     ]
    }
   ],
   "source": [
    "arr = np.array([ [1,2,2] , [3,4,5] , [5,6,6] ])\n",
    "\n",
    "print(np.unique(arr))"
   ]
  },
  {
   "cell_type": "code",
   "execution_count": 11,
   "metadata": {},
   "outputs": [
    {
     "name": "stdout",
     "output_type": "stream",
     "text": [
      "(array([1, 2, 5, 6]), array([2, 4, 1, 2], dtype=int64))\n"
     ]
    }
   ],
   "source": [
    "arr = np.array([ [1,2,2] , [1,2,2] , [5,6,6] ])\n",
    "\n",
    "print(np.unique(arr,return_counts=True))"
   ]
  },
  {
   "cell_type": "code",
   "execution_count": null,
   "metadata": {},
   "outputs": [],
   "source": []
  }
 ],
 "metadata": {
  "kernelspec": {
   "display_name": "Python 3",
   "language": "python",
   "name": "python3"
  },
  "language_info": {
   "codemirror_mode": {
    "name": "ipython",
    "version": 3
   },
   "file_extension": ".py",
   "mimetype": "text/x-python",
   "name": "python",
   "nbconvert_exporter": "python",
   "pygments_lexer": "ipython3",
   "version": "3.8.3"
  }
 },
 "nbformat": 4,
 "nbformat_minor": 4
}
