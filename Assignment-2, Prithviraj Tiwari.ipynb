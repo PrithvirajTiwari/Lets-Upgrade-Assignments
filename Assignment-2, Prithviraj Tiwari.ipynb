{
 "cells": [
  {
   "cell_type": "markdown",
   "metadata": {},
   "source": [
    "# Assignment-2\n",
    "Prithviraj Tiwari"
   ]
  },
  {
   "cell_type": "markdown",
   "metadata": {},
   "source": [
    "# Question-1"
   ]
  },
  {
   "cell_type": "code",
   "execution_count": 10,
   "metadata": {},
   "outputs": [
    {
     "name": "stdout",
     "output_type": "stream",
     "text": [
      "20\n",
      "[20]\n",
      "40\n",
      "[20, 40]\n",
      "60\n",
      "[20, 40, 60]\n",
      "3\n",
      "5\n",
      "7\n",
      "9\n",
      "12\n",
      "[20, 40, 60, 12]\n",
      "2\n",
      "[20, 40, 60, 12, 2]\n",
      "80\n",
      "[20, 40, 60, 12, 2, 80]\n"
     ]
    }
   ],
   "source": [
    "l1= []\n",
    "for i in range(10):\n",
    "    n = int(input())\n",
    "    if (n%2==0):\n",
    "        l1.append(n)\n",
    "        print(l1)"
   ]
  },
  {
   "cell_type": "markdown",
   "metadata": {},
   "source": [
    "# Question-2 "
   ]
  },
  {
   "cell_type": "code",
   "execution_count": 12,
   "metadata": {},
   "outputs": [
    {
     "name": "stdout",
     "output_type": "stream",
     "text": [
      "[100, 400, 900, 1600, 2500]\n"
     ]
    }
   ],
   "source": [
    "# Example of List Comprehension, Getting square of Numbers\n",
    "N = [10,20,30,40,50]\n",
    "M = [n*n for n in N]\n",
    "print(M)"
   ]
  },
  {
   "cell_type": "markdown",
   "metadata": {},
   "source": [
    "# Question-3"
   ]
  },
  {
   "cell_type": "code",
   "execution_count": 27,
   "metadata": {},
   "outputs": [
    {
     "name": "stdout",
     "output_type": "stream",
     "text": [
      "8\n",
      "{1: 1, 2: 4, 3: 9, 4: 16, 5: 25, 6: 36, 7: 49, 8: 64}\n"
     ]
    }
   ],
   "source": [
    "dict = {}\n",
    "n = int(input())\n",
    "for i in range(1,n+1):\n",
    "    dict[i] = i*i\n",
    "print(dict)"
   ]
  },
  {
   "cell_type": "markdown",
   "metadata": {},
   "source": [
    "# Question-4"
   ]
  },
  {
   "cell_type": "code",
   "execution_count": 28,
   "metadata": {},
   "outputs": [
    {
     "name": "stdout",
     "output_type": "stream",
     "text": [
      "2\n"
     ]
    }
   ],
   "source": [
    "from math import sqrt\n",
    "direction_steps = {\"UP\": 5, \"DOWN\": 3, \"LEFT\": 3, \"RIGHT\": 2}\n",
    "x1,y1 = 0,0\n",
    "\n",
    "'''\n",
    "\n",
    "    So we can consider the (UP - DOWN) as x2 and (RIGHT - LEFT) as y2\n",
    "    \n",
    "    x2 = (UP - DOWN) = 5 - 3 = 2\n",
    "    \n",
    "    y2 = (RIGHT - LEFT) = 2 - 3 = -1 \n",
    "    \n",
    "    Distance Formula = sqrt((x2 - x1)**2 + (y2 -y1)**2)\n",
    "    \n",
    "'''\n",
    "     \n",
    "x2 = direction_steps[\"UP\"] - direction_steps[\"DOWN\"]\n",
    "\n",
    "y2 = direction_steps[\"RIGHT\"] - direction_steps[\"LEFT\"]\n",
    "\n",
    "distance = int(round(sqrt((x2 - x1)**2 + (y2 -y1)**2)))  \n",
    "\n",
    "print(distance)"
   ]
  },
  {
   "cell_type": "code",
   "execution_count": null,
   "metadata": {},
   "outputs": [],
   "source": [
    "x1,y1=0,0\n",
    "n= input(\"No. of Directions\")\n",
    "n1=int(input(\"Enter steps in UP direction\"))\n",
    "n2=int(input(\"Enter steps in DOWN direction\"))\n",
    "n3=int(input(\"Enter steps in LEFT direction\"))\n",
    "n4=int(input(\"Enter steps in Right direction\"))\n",
    "\n",
    "d=round(sqrt(((n1-n2)-y1)**2+((n4-n3)-x1)**2))\n",
    "print(d)"
   ]
  },
  {
   "cell_type": "code",
   "execution_count": null,
   "metadata": {},
   "outputs": [],
   "source": []
  },
  {
   "cell_type": "code",
   "execution_count": null,
   "metadata": {},
   "outputs": [],
   "source": []
  }
 ],
 "metadata": {
  "kernelspec": {
   "display_name": "Python 3",
   "language": "python",
   "name": "python3"
  },
  "language_info": {
   "codemirror_mode": {
    "name": "ipython",
    "version": 3
   },
   "file_extension": ".py",
   "mimetype": "text/x-python",
   "name": "python",
   "nbconvert_exporter": "python",
   "pygments_lexer": "ipython3",
   "version": "3.8.3"
  }
 },
 "nbformat": 4,
 "nbformat_minor": 4
}
